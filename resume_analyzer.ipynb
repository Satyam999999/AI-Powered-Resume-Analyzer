{
 "cells": [
  {
   "cell_type": "markdown",
   "metadata": {},
   "source": [
    "## Get The text from the PDF"
   ]
  },
  {
   "cell_type": "code",
   "execution_count": 2,
   "metadata": {},
   "outputs": [
    {
     "name": "stdout",
     "output_type": "stream",
     "text": [
      "Requirement already satisfied: pdfplumber in /Users/satyamghosh/Desktop/venv/lib/python3.10/site-packages (0.11.7)\n",
      "Requirement already satisfied: pytesseract in /Users/satyamghosh/Desktop/venv/lib/python3.10/site-packages (0.3.13)\n",
      "Requirement already satisfied: pdf2image in /Users/satyamghosh/Desktop/venv/lib/python3.10/site-packages (1.17.0)\n",
      "Requirement already satisfied: pdfminer.six==20250506 in /Users/satyamghosh/Desktop/venv/lib/python3.10/site-packages (from pdfplumber) (20250506)\n",
      "Requirement already satisfied: Pillow>=9.1 in /Users/satyamghosh/Desktop/venv/lib/python3.10/site-packages (from pdfplumber) (11.2.1)\n",
      "Requirement already satisfied: pypdfium2>=4.18.0 in /Users/satyamghosh/Desktop/venv/lib/python3.10/site-packages (from pdfplumber) (4.30.1)\n",
      "Requirement already satisfied: charset-normalizer>=2.0.0 in /Users/satyamghosh/Desktop/venv/lib/python3.10/site-packages (from pdfminer.six==20250506->pdfplumber) (3.4.2)\n",
      "Requirement already satisfied: cryptography>=36.0.0 in /Users/satyamghosh/Desktop/venv/lib/python3.10/site-packages (from pdfminer.six==20250506->pdfplumber) (45.0.5)\n",
      "Requirement already satisfied: packaging>=21.3 in /Users/satyamghosh/Desktop/venv/lib/python3.10/site-packages (from pytesseract) (25.0)\n",
      "Requirement already satisfied: cffi>=1.14 in /Users/satyamghosh/Desktop/venv/lib/python3.10/site-packages (from cryptography>=36.0.0->pdfminer.six==20250506->pdfplumber) (1.17.1)\n",
      "Requirement already satisfied: pycparser in /Users/satyamghosh/Desktop/venv/lib/python3.10/site-packages (from cffi>=1.14->cryptography>=36.0.0->pdfminer.six==20250506->pdfplumber) (2.22)\n",
      "Note: you may need to restart the kernel to use updated packages.\n"
     ]
    }
   ],
   "source": [
    "%pip install pdfplumber pytesseract pdf2image"
   ]
  },
  {
   "cell_type": "code",
   "execution_count": 3,
   "metadata": {},
   "outputs": [],
   "source": [
    "import pdfplumber\n",
    "import pytesseract\n",
    "from pdf2image import convert_from_path"
   ]
  },
  {
   "cell_type": "code",
   "execution_count": 4,
   "metadata": {},
   "outputs": [],
   "source": [
    "def extract_text_from_pdf(pdf_path):\n",
    "    text = \"\"\n",
    "    try:\n",
    "        # Try direct text extraction\n",
    "        with pdfplumber.open(pdf_path) as pdf:\n",
    "            for page in pdf.pages:\n",
    "                page_text = page.extract_text()\n",
    "                if page_text:\n",
    "                    text += page_text\n",
    "\n",
    "        if text.strip():\n",
    "            return text.strip()\n",
    "    except Exception as e:\n",
    "        print(f\"Direct text extraction failed: {e}\")\n",
    "\n",
    "    # Fallback to OCR for image-based PDFs\n",
    "    print(\"Falling back to OCR for image-based PDF.\")\n",
    "    try:\n",
    "        images = convert_from_path(pdf_path)\n",
    "        for image in images:\n",
    "            page_text = pytesseract.image_to_string(image)\n",
    "            text += page_text + \"\\n\"\n",
    "    except Exception as e:\n",
    "        print(f\"OCR failed: {e}\")\n",
    "\n",
    "    return text.strip()"
   ]
  },
  {
   "cell_type": "code",
   "execution_count": 5,
   "metadata": {},
   "outputs": [
    {
     "name": "stdout",
     "output_type": "stream",
     "text": [
      "\n",
      "Extracted Text from PDF:\n",
      "Nitish Kumar\n",
      "Data Scientist\n",
      "xyz@gmail.com 9977141714 GitHub LinkedIn Portfolio\n",
      "About me\n",
      "I have 1+ years of experience in Machine Learning with a proven ability and history of developing full-stack machine\n",
      "learning projects. I'm curious about data, training Machine Learning/ Deep Learning models, and providing\n",
      "beautiful insights that are easily understandable. Hands-on experience in leveraging machine learning, deep\n",
      "learning, transfer learning models to solve challenging business problems.\n",
      "Professional Experience\n",
      "10/2021 – present ML Engineer - II\n",
      "iNeuron\n",
      "I am working on a web app named \"Auto Neuron\". The purpose to develop this web\n",
      "app is to allow non-technical people a platform where they can perform Data\n",
      "Engineering and can train Machine Learning models without even writing a single line\n",
      "of code. Each and action will be performed using a User Interface.\n",
      "08/2021 – 10/2021 ML Engineer\n",
      "Company name\n",
      "I completed an end-to-end project titled \"Flight Fare Prediction\". This project is\n",
      "developed keeping in mind that traveling through flights has become an integral part\n",
      "of todayʼs lifestyle as more and more people are opting for faster-traveling options.\n",
      "Projects\n",
      "SimplifiedAI\n",
      "A scalable Web app application to perform Exploratory Data Analysis, Data Preprocessing, Feature engineering,\n",
      "Model training, Process\n",
      "scheduling and custom scripting.\n",
      "It includes all important parts of the Ml life cycle.\n",
      "It is an end-to-end application that is currently running on an AWS EC2 instance.\n",
      "Access link: http://18.215.170.251:8080/contact\n",
      "WAFER FAULT DETECTION\n",
      "Wafer is a piece of silicon or other semiconductor material, designed in the form of a very thin disc. Wafers are\n",
      "used to create electronic integrated circuits (ICs) and silicon-based photovoltaic cells. These wafers provide a\n",
      "large volume of data as an output through sensors. Based on the reading provided by the sensors and using\n",
      "classification machine learning algorithms I have predicted if the wafer is faulty or not. Using this ML app the\n",
      "companies can save a huge amount of man power, time as well as money.\n",
      "https://github.com/vishalsingh17/WaferFaultDetectionCLASSIFICATION ALGORITHMS APP\n",
      "In this web application, we can explore different datasets and classifiers. This project demonstrates how easily\n",
      "interactive web applications can be built with streamlit. Streamlit lets you create apps for your machine learning\n",
      "projects with simple Python scripts.\n",
      "https://github.com/vishalsingh17/Explore_classifier_UI\n",
      "CHATBOT\n",
      "Many medium and large organizations are replacing manual customer relationship management and QnA\n",
      "problems with chatbots. Chatbots are more reliable and pocket-friendly for companies. In this project, I have\n",
      "developed a chatbot that can be used in the education sector. I have used DialogFlow to build the bot.\n",
      "https://github.com/vishalsingh17/DialogflowChatbot\n",
      "DEVELOPMENT USING DOCKER\n",
      "This demo app shows a simple user profile app set up using index.html with pure js and CSS styles nodejs\n",
      "backend with express module MongoDB for data storage. All components are docker-based.\n",
      "https://github.com/vishalsingh17/DockerWithMongoDB\n",
      "Education\n",
      "06/2021 – present MBA\n",
      "IGNOU\n",
      "12/2018 – 12/2020 MCA\n",
      "IGNOU\n",
      "12/2015 – 12/2018 BCA\n",
      "IGNOU\n",
      "Certificates\n",
      "Python Machine Learning Masters\n",
      "Advanced SQL Advanced Certificate Program in Data Science\n",
      "Skills\n",
      "Programming Languages Data Mining\n",
      "Python, C++ Numpy, Pandas, Matplotlib, Plotly\n",
      "Databases Frameworks\n",
      "MySQL, MongoDB, Redis Flask, Django, Fast API\n",
      "Version Control Tools\n",
      "Git, DVC Pycharm, Vscode, Postman, Sublime\n"
     ]
    }
   ],
   "source": [
    "pdf_path = \"Resume.pdf\"\n",
    "resume_text = extract_text_from_pdf(pdf_path)\n",
    "\n",
    "print(\"\\nExtracted Text from PDF:\")\n",
    "print(resume_text)"
   ]
  },
  {
   "cell_type": "markdown",
   "metadata": {},
   "source": [
    "## Set Google GenerativeAI Api Key"
   ]
  },
  {
   "cell_type": "code",
   "execution_count": 6,
   "metadata": {},
   "outputs": [
    {
     "name": "stdout",
     "output_type": "stream",
     "text": [
      "Requirement already satisfied: google.generativeai in /Users/satyamghosh/Desktop/venv/lib/python3.10/site-packages (0.8.5)\n",
      "Requirement already satisfied: python-dotenv in /Users/satyamghosh/Desktop/venv/lib/python3.10/site-packages (1.1.1)\n",
      "Requirement already satisfied: google-ai-generativelanguage==0.6.15 in /Users/satyamghosh/Desktop/venv/lib/python3.10/site-packages (from google.generativeai) (0.6.15)\n",
      "Requirement already satisfied: google-api-core in /Users/satyamghosh/Desktop/venv/lib/python3.10/site-packages (from google.generativeai) (2.25.1)\n",
      "Requirement already satisfied: google-api-python-client in /Users/satyamghosh/Desktop/venv/lib/python3.10/site-packages (from google.generativeai) (2.176.0)\n",
      "Requirement already satisfied: google-auth>=2.15.0 in /Users/satyamghosh/Desktop/venv/lib/python3.10/site-packages (from google.generativeai) (2.40.3)\n",
      "Requirement already satisfied: protobuf in /Users/satyamghosh/Desktop/venv/lib/python3.10/site-packages (from google.generativeai) (5.29.5)\n",
      "Requirement already satisfied: pydantic in /Users/satyamghosh/Desktop/venv/lib/python3.10/site-packages (from google.generativeai) (2.11.7)\n",
      "Requirement already satisfied: tqdm in /Users/satyamghosh/Desktop/venv/lib/python3.10/site-packages (from google.generativeai) (4.67.1)\n",
      "Requirement already satisfied: typing-extensions in /Users/satyamghosh/Desktop/venv/lib/python3.10/site-packages (from google.generativeai) (4.13.2)\n",
      "Requirement already satisfied: proto-plus<2.0.0dev,>=1.22.3 in /Users/satyamghosh/Desktop/venv/lib/python3.10/site-packages (from google-ai-generativelanguage==0.6.15->google.generativeai) (1.26.1)\n",
      "Requirement already satisfied: googleapis-common-protos<2.0.0,>=1.56.2 in /Users/satyamghosh/Desktop/venv/lib/python3.10/site-packages (from google-api-core->google.generativeai) (1.70.0)\n",
      "Requirement already satisfied: requests<3.0.0,>=2.18.0 in /Users/satyamghosh/Desktop/venv/lib/python3.10/site-packages (from google-api-core->google.generativeai) (2.32.3)\n",
      "Requirement already satisfied: grpcio<2.0.0,>=1.33.2 in /Users/satyamghosh/Desktop/venv/lib/python3.10/site-packages (from google-api-core[grpc]!=2.0.*,!=2.1.*,!=2.10.*,!=2.2.*,!=2.3.*,!=2.4.*,!=2.5.*,!=2.6.*,!=2.7.*,!=2.8.*,!=2.9.*,<3.0.0dev,>=1.34.1->google-ai-generativelanguage==0.6.15->google.generativeai) (1.73.0)\n",
      "Requirement already satisfied: grpcio-status<2.0.0,>=1.33.2 in /Users/satyamghosh/Desktop/venv/lib/python3.10/site-packages (from google-api-core[grpc]!=2.0.*,!=2.1.*,!=2.10.*,!=2.2.*,!=2.3.*,!=2.4.*,!=2.5.*,!=2.6.*,!=2.7.*,!=2.8.*,!=2.9.*,<3.0.0dev,>=1.34.1->google-ai-generativelanguage==0.6.15->google.generativeai) (1.71.2)\n",
      "Requirement already satisfied: cachetools<6.0,>=2.0.0 in /Users/satyamghosh/Desktop/venv/lib/python3.10/site-packages (from google-auth>=2.15.0->google.generativeai) (5.5.2)\n",
      "Requirement already satisfied: pyasn1-modules>=0.2.1 in /Users/satyamghosh/Desktop/venv/lib/python3.10/site-packages (from google-auth>=2.15.0->google.generativeai) (0.4.2)\n",
      "Requirement already satisfied: rsa<5,>=3.1.4 in /Users/satyamghosh/Desktop/venv/lib/python3.10/site-packages (from google-auth>=2.15.0->google.generativeai) (4.9.1)\n",
      "Requirement already satisfied: charset-normalizer<4,>=2 in /Users/satyamghosh/Desktop/venv/lib/python3.10/site-packages (from requests<3.0.0,>=2.18.0->google-api-core->google.generativeai) (3.4.2)\n",
      "Requirement already satisfied: idna<4,>=2.5 in /Users/satyamghosh/Desktop/venv/lib/python3.10/site-packages (from requests<3.0.0,>=2.18.0->google-api-core->google.generativeai) (3.10)\n",
      "Requirement already satisfied: urllib3<3,>=1.21.1 in /Users/satyamghosh/Desktop/venv/lib/python3.10/site-packages (from requests<3.0.0,>=2.18.0->google-api-core->google.generativeai) (2.4.0)\n",
      "Requirement already satisfied: certifi>=2017.4.17 in /Users/satyamghosh/Desktop/venv/lib/python3.10/site-packages (from requests<3.0.0,>=2.18.0->google-api-core->google.generativeai) (2025.4.26)\n",
      "Requirement already satisfied: pyasn1>=0.1.3 in /Users/satyamghosh/Desktop/venv/lib/python3.10/site-packages (from rsa<5,>=3.1.4->google-auth>=2.15.0->google.generativeai) (0.6.1)\n",
      "Requirement already satisfied: httplib2<1.0.0,>=0.19.0 in /Users/satyamghosh/Desktop/venv/lib/python3.10/site-packages (from google-api-python-client->google.generativeai) (0.22.0)\n",
      "Requirement already satisfied: google-auth-httplib2<1.0.0,>=0.2.0 in /Users/satyamghosh/Desktop/venv/lib/python3.10/site-packages (from google-api-python-client->google.generativeai) (0.2.0)\n",
      "Requirement already satisfied: uritemplate<5,>=3.0.1 in /Users/satyamghosh/Desktop/venv/lib/python3.10/site-packages (from google-api-python-client->google.generativeai) (4.2.0)\n",
      "Requirement already satisfied: pyparsing!=3.0.0,!=3.0.1,!=3.0.2,!=3.0.3,<4,>=2.4.2 in /Users/satyamghosh/Desktop/venv/lib/python3.10/site-packages (from httplib2<1.0.0,>=0.19.0->google-api-python-client->google.generativeai) (3.2.3)\n",
      "Requirement already satisfied: annotated-types>=0.6.0 in /Users/satyamghosh/Desktop/venv/lib/python3.10/site-packages (from pydantic->google.generativeai) (0.7.0)\n",
      "Requirement already satisfied: pydantic-core==2.33.2 in /Users/satyamghosh/Desktop/venv/lib/python3.10/site-packages (from pydantic->google.generativeai) (2.33.2)\n",
      "Requirement already satisfied: typing-inspection>=0.4.0 in /Users/satyamghosh/Desktop/venv/lib/python3.10/site-packages (from pydantic->google.generativeai) (0.4.1)\n",
      "Note: you may need to restart the kernel to use updated packages.\n"
     ]
    }
   ],
   "source": [
    "%pip install google.generativeai python-dotenv"
   ]
  },
  {
   "cell_type": "code",
   "execution_count": 7,
   "metadata": {},
   "outputs": [],
   "source": [
    "import google.generativeai as genai\n",
    "import os\n",
    "from dotenv import load_dotenv\n",
    "\n",
    "load_dotenv()\n",
    "genai.configure(api_key=os.getenv(\"GOOGLE_API_KEY\"))\n",
    "model = genai.GenerativeModel(\"gemini-1.5-flash\")"
   ]
  },
  {
   "cell_type": "code",
   "execution_count": 8,
   "metadata": {},
   "outputs": [],
   "source": [
    "response = model.generate_content(\"What is the name of student?\")\n"
   ]
  },
  {
   "cell_type": "code",
   "execution_count": 9,
   "metadata": {},
   "outputs": [
    {
     "name": "stdout",
     "output_type": "stream",
     "text": [
      "response:\n",
      "GenerateContentResponse(\n",
      "    done=True,\n",
      "    iterator=None,\n",
      "    result=protos.GenerateContentResponse({\n",
      "      \"candidates\": [\n",
      "        {\n",
      "          \"content\": {\n",
      "            \"parts\": [\n",
      "              {\n",
      "                \"text\": \"The provided text does not contain the name of a student.  Please provide more information.\\n\"\n",
      "              }\n",
      "            ],\n",
      "            \"role\": \"model\"\n",
      "          },\n",
      "          \"finish_reason\": \"STOP\",\n",
      "          \"avg_logprobs\": -0.18595759492171438\n",
      "        }\n",
      "      ],\n",
      "      \"usage_metadata\": {\n",
      "        \"prompt_token_count\": 7,\n",
      "        \"candidates_token_count\": 19,\n",
      "        \"total_token_count\": 26\n",
      "      },\n",
      "      \"model_version\": \"gemini-1.5-flash\"\n",
      "    }),\n",
      ")\n"
     ]
    }
   ],
   "source": [
    "print(response)"
   ]
  },
  {
   "cell_type": "code",
   "execution_count": 10,
   "metadata": {},
   "outputs": [
    {
     "name": "stdout",
     "output_type": "stream",
     "text": [
      "The provided text does not contain the name of a student.  Please provide more information.\n",
      "\n"
     ]
    }
   ],
   "source": [
    "print(response.text)"
   ]
  },
  {
   "cell_type": "markdown",
   "metadata": {},
   "source": [
    "## Resume Analysis"
   ]
  },
  {
   "cell_type": "code",
   "execution_count": 11,
   "metadata": {},
   "outputs": [],
   "source": [
    "def analyze_resume(resume_text, job_description=None):\n",
    "    if not resume_text:\n",
    "        return {\"error\": \"Resume text is required for analysis.\"}\n",
    "    \n",
    "    model = genai.GenerativeModel(\"gemini-1.5-flash\")\n",
    "    \n",
    "    base_prompt = f\"\"\"\n",
    "    You are an experienced HR with Technical Experience in the field of any one job role from Data Science, Data Analyst, DevOPS, Machine Learning Engineer, Prompt Engineer, AI Engineer, Full Stack Web Development, Big Data Engineering, Marketing Analyst, Human Resource Manager, Software Developer your task is to review the provided resume.\n",
    "    Please share your professional evaluation on whether the candidate's profile aligns with the role.ALso mention Skills he already have and siggest some skills to imorve his resume , alos suggest some course he might take to improve the skills.Highlight the strengths and weaknesses.\n",
    "\n",
    "    Resume:\n",
    "    {resume_text}\n",
    "    \"\"\"\n",
    "\n",
    "    if job_description:\n",
    "        base_prompt += f\"\"\"\n",
    "        Additionally, compare this resume to the following job description:\n",
    "        \n",
    "        Job Description:\n",
    "        {job_description}\n",
    "        \n",
    "        Highlight the strengths and weaknesses of the applicant in relation to the specified job requirements.\n",
    "        \"\"\"\n",
    "\n",
    "    response = model.generate_content(base_prompt)\n",
    "\n",
    "    analysis = response.text.strip()\n",
    "    return analysis"
   ]
  },
  {
   "cell_type": "code",
   "execution_count": 12,
   "metadata": {},
   "outputs": [
    {
     "name": "stdout",
     "output_type": "stream",
     "text": [
      "## Resume Review for Nitish Kumar - Data Scientist\n",
      "\n",
      "**Overall Impression:** Nitish's resume showcases a strong foundation in machine learning and web application development, particularly relevant for a Data Scientist role that involves building and deploying models. However, it needs refinement to better highlight his achievements and quantifiable results.\n",
      "\n",
      "**Strengths:**\n",
      "\n",
      "* **Strong Technical Skills:**  He possesses a wide range of skills including Python, various ML libraries (NumPy, Pandas, Matplotlib, Plotly), databases (MySQL, MongoDB, Redis), web frameworks (Flask, Django, FastAPI), and version control (Git, DVC).  His experience with Docker demonstrates DevOps awareness, a valuable asset.\n",
      "* **Project Portfolio:** The projects demonstrate hands-on experience with building and deploying machine learning models, including a focus on creating user-friendly interfaces (SimplifiedAI, Wafer Fault Detection, Explore_classifier_UI). This showcases practical application of his skills.\n",
      "* **Relevant Experience:**  His experience as an ML Engineer at iNeuron and his previous role highlight practical experience in the field.  The \"Auto Neuron\" project is particularly impressive as it shows an ability to create a user-friendly ML platform.\n",
      "\n",
      "**Weaknesses:**\n",
      "\n",
      "* **Lack of Quantifiable Results:**  The resume lacks concrete metrics to demonstrate the impact of his projects.  Instead of just describing the projects, he should quantify the results. For example, \"Improved model accuracy by 15%,\" \"Reduced processing time by 20%,\" or \"Increased user engagement by X%.\"  This is crucial for showcasing the value he brings.\n",
      "* **Resume Structure & Clarity:** While the content is good, the structure and organization could be improved.  The \"About Me\" section is generic and could be more impactful.  The project descriptions are too brief and lack quantifiable results.  A more concise and visually appealing format would be beneficial.\n",
      "* **Limited Business Acumen:** The resume focuses heavily on technical skills and projects, but doesn't explicitly demonstrate an understanding of business context and how his projects addressed specific business problems.  Adding a sentence or two highlighting the business impact of each project would significantly strengthen his application.\n",
      "* **Generic Skill Listing:** The \"Skills\" section is a simple list. Categorizing skills (e.g., Programming Languages, Machine Learning Libraries, Databases, Cloud Technologies) and using a more visually appealing format would enhance readability.\n",
      "* **Missing Keywords:**  For stronger applicant tracking system (ATS) compatibility, incorporating keywords relevant to data science roles (e.g., data cleaning, feature selection, model evaluation, hyperparameter tuning, specific algorithms used) would be beneficial.\n",
      "* **GitHub Link Issues:** Listing GitHub links for projects is good, but ensures they are well-maintained, clean, and have clear documentation.\n",
      "\n",
      "\n",
      "**Skills to Improve & Suggested Courses:**\n",
      "\n",
      "* **Advanced Machine Learning Techniques:**  Deepen his understanding of more advanced techniques like deep learning architectures (CNNs, RNNs, Transformers), time series analysis, and reinforcement learning.  Courses on Coursera, edX, Udacity, or Fast.ai are excellent resources.\n",
      "* **Cloud Computing (AWS, Azure, GCP):** While he mentions AWS EC2, expanding his cloud expertise would be beneficial.  Cloud certifications are highly valued.\n",
      "* **Data Visualization:** Enhance his data visualization skills using tools like Tableau or Power BI to create more compelling and insightful visualizations.\n",
      "* **Big Data Technologies (Spark, Hadoop):**  Adding familiarity with big data technologies would broaden his skillset and open up opportunities.\n",
      "* **Model Deployment and MLOps:**  Strengthen his skills in deploying and managing ML models in production environments.  Courses on MLOps are becoming increasingly important.\n",
      "* **Communication and Presentation Skills:**  Practice clearly explaining complex technical concepts to both technical and non-technical audiences.  Consider taking public speaking or technical writing courses.\n",
      "* **Business Acumen:**  Develop a stronger understanding of business strategy, data-driven decision-making, and how data science can solve business problems.  Online courses or an MBA (if feasible) would be beneficial.\n",
      "\n",
      "\n",
      "**Recommendations for Resume Improvement:**\n",
      "\n",
      "1. **Quantify Achievements:** Add specific numbers to demonstrate the impact of his projects (e.g., \"Improved model accuracy by 15%,\" \"Reduced prediction time by 20%,\" \"Increased sales by X%\").\n",
      "2. **Structure and Formatting:** Use a modern, clean resume template.  Clearly separate sections (Summary, Experience, Projects, Skills, Education). Use bullet points and concise language.\n",
      "3. **Expand Project Descriptions:**  Provide more details about the challenges faced, solutions implemented, and the business impact of each project. Include technologies used.\n",
      "4. **Tailor to Job Description:**  Customize the resume to match the specific requirements and keywords of each job application.\n",
      "5. **Add a Portfolio Link:** Create a dedicated online portfolio showcasing his projects with detailed explanations and visuals.  This will be more impactful than just GitHub links.\n",
      "6. **Refine the \"About Me\" Section:**  Write a compelling summary highlighting his key skills and career aspirations, emphasizing his value proposition for employers.\n",
      "\n",
      "\n",
      "By addressing these weaknesses and incorporating the suggested improvements, Nitish can significantly strengthen his resume and increase his chances of landing his desired Data Scientist roles.  His technical foundation is solid; it just needs better presentation and quantification of results.\n"
     ]
    }
   ],
   "source": [
    "print(analyze_resume(resume_text))\n"
   ]
  }
 ],
 "metadata": {
  "kernelspec": {
   "display_name": "Python 3",
   "language": "python",
   "name": "python3"
  },
  "language_info": {
   "codemirror_mode": {
    "name": "ipython",
    "version": 3
   },
   "file_extension": ".py",
   "mimetype": "text/x-python",
   "name": "python",
   "nbconvert_exporter": "python",
   "pygments_lexer": "ipython3",
   "version": "3.10.0"
  }
 },
 "nbformat": 4,
 "nbformat_minor": 2
}
